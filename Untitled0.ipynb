{
  "nbformat": 4,
  "nbformat_minor": 0,
  "metadata": {
    "colab": {
      "name": "Untitled0.ipynb",
      "provenance": [],
      "authorship_tag": "ABX9TyNfoK2t2qJxweUDHGQ19Ozn",
      "include_colab_link": true
    },
    "kernelspec": {
      "name": "python3",
      "display_name": "Python 3"
    },
    "language_info": {
      "name": "python"
    }
  },
  "cells": [
    {
      "cell_type": "markdown",
      "metadata": {
        "id": "view-in-github",
        "colab_type": "text"
      },
      "source": [
        "<a href=\"https://colab.research.google.com/github/mansoorali-byte/AiAssignment02/blob/main/Untitled0.ipynb\" target=\"_parent\"><img src=\"https://colab.research.google.com/assets/colab-badge.svg\" alt=\"Open In Colab\"/></a>"
      ]
    },
    {
      "cell_type": "code",
      "execution_count": 10,
      "metadata": {
        "id": "e__osp-j9tgs"
      },
      "outputs": [],
      "source": [
        "import numpy as np\n",
        "import pandas as pd\n"
      ]
    },
    {
      "cell_type": "code",
      "source": [
        "url = \"https://raw.githubusercontent.com/mansoorali-byte/AiAssignment02/main/NBA_data.csv\"\n",
        "df1 = pd.read_csv(url)\n",
        "df1.head()"
      ],
      "metadata": {
        "colab": {
          "base_uri": "https://localhost:8080/",
          "height": 206
        },
        "id": "jotVJphhDXim",
        "outputId": "d8b59695-c0b6-4da9-afc1-538f2791a1ad"
      },
      "execution_count": 11,
      "outputs": [
        {
          "output_type": "execute_result",
          "data": {
            "text/plain": [
              "              Player Position  Age  Games  Minutes Played  True Shooting(%)  \\\n",
              "0   Precious Achiuwa       PF   21     28           408.0             0.599   \n",
              "1       Jaylen Adams       PG   24      6            17.0             0.125   \n",
              "2       Steven Adams        C   27     27           760.0             0.592   \n",
              "3        Bam Adebayo        C   23     26           873.0             0.641   \n",
              "4  LaMarcus Aldridge        C   35     18           480.0             0.542   \n",
              "\n",
              "   Threepoint Attempt rate  Free throw attempt rate  Player Efficiency Rating  \n",
              "0                    0.000                    0.541                      15.1  \n",
              "1                    0.250                    0.000                      -6.9  \n",
              "2                      NaN                    0.397                      15.9  \n",
              "3                    0.015                    0.469                      22.7  \n",
              "4                    0.298                    0.093                      15.2  "
            ],
            "text/html": [
              "\n",
              "  <div id=\"df-e8972544-0a44-415c-8d94-0b3d0ad4e3f2\">\n",
              "    <div class=\"colab-df-container\">\n",
              "      <div>\n",
              "<style scoped>\n",
              "    .dataframe tbody tr th:only-of-type {\n",
              "        vertical-align: middle;\n",
              "    }\n",
              "\n",
              "    .dataframe tbody tr th {\n",
              "        vertical-align: top;\n",
              "    }\n",
              "\n",
              "    .dataframe thead th {\n",
              "        text-align: right;\n",
              "    }\n",
              "</style>\n",
              "<table border=\"1\" class=\"dataframe\">\n",
              "  <thead>\n",
              "    <tr style=\"text-align: right;\">\n",
              "      <th></th>\n",
              "      <th>Player</th>\n",
              "      <th>Position</th>\n",
              "      <th>Age</th>\n",
              "      <th>Games</th>\n",
              "      <th>Minutes Played</th>\n",
              "      <th>True Shooting(%)</th>\n",
              "      <th>Threepoint Attempt rate</th>\n",
              "      <th>Free throw attempt rate</th>\n",
              "      <th>Player Efficiency Rating</th>\n",
              "    </tr>\n",
              "  </thead>\n",
              "  <tbody>\n",
              "    <tr>\n",
              "      <th>0</th>\n",
              "      <td>Precious Achiuwa</td>\n",
              "      <td>PF</td>\n",
              "      <td>21</td>\n",
              "      <td>28</td>\n",
              "      <td>408.0</td>\n",
              "      <td>0.599</td>\n",
              "      <td>0.000</td>\n",
              "      <td>0.541</td>\n",
              "      <td>15.1</td>\n",
              "    </tr>\n",
              "    <tr>\n",
              "      <th>1</th>\n",
              "      <td>Jaylen Adams</td>\n",
              "      <td>PG</td>\n",
              "      <td>24</td>\n",
              "      <td>6</td>\n",
              "      <td>17.0</td>\n",
              "      <td>0.125</td>\n",
              "      <td>0.250</td>\n",
              "      <td>0.000</td>\n",
              "      <td>-6.9</td>\n",
              "    </tr>\n",
              "    <tr>\n",
              "      <th>2</th>\n",
              "      <td>Steven Adams</td>\n",
              "      <td>C</td>\n",
              "      <td>27</td>\n",
              "      <td>27</td>\n",
              "      <td>760.0</td>\n",
              "      <td>0.592</td>\n",
              "      <td>NaN</td>\n",
              "      <td>0.397</td>\n",
              "      <td>15.9</td>\n",
              "    </tr>\n",
              "    <tr>\n",
              "      <th>3</th>\n",
              "      <td>Bam Adebayo</td>\n",
              "      <td>C</td>\n",
              "      <td>23</td>\n",
              "      <td>26</td>\n",
              "      <td>873.0</td>\n",
              "      <td>0.641</td>\n",
              "      <td>0.015</td>\n",
              "      <td>0.469</td>\n",
              "      <td>22.7</td>\n",
              "    </tr>\n",
              "    <tr>\n",
              "      <th>4</th>\n",
              "      <td>LaMarcus Aldridge</td>\n",
              "      <td>C</td>\n",
              "      <td>35</td>\n",
              "      <td>18</td>\n",
              "      <td>480.0</td>\n",
              "      <td>0.542</td>\n",
              "      <td>0.298</td>\n",
              "      <td>0.093</td>\n",
              "      <td>15.2</td>\n",
              "    </tr>\n",
              "  </tbody>\n",
              "</table>\n",
              "</div>\n",
              "      <button class=\"colab-df-convert\" onclick=\"convertToInteractive('df-e8972544-0a44-415c-8d94-0b3d0ad4e3f2')\"\n",
              "              title=\"Convert this dataframe to an interactive table.\"\n",
              "              style=\"display:none;\">\n",
              "        \n",
              "  <svg xmlns=\"http://www.w3.org/2000/svg\" height=\"24px\"viewBox=\"0 0 24 24\"\n",
              "       width=\"24px\">\n",
              "    <path d=\"M0 0h24v24H0V0z\" fill=\"none\"/>\n",
              "    <path d=\"M18.56 5.44l.94 2.06.94-2.06 2.06-.94-2.06-.94-.94-2.06-.94 2.06-2.06.94zm-11 1L8.5 8.5l.94-2.06 2.06-.94-2.06-.94L8.5 2.5l-.94 2.06-2.06.94zm10 10l.94 2.06.94-2.06 2.06-.94-2.06-.94-.94-2.06-.94 2.06-2.06.94z\"/><path d=\"M17.41 7.96l-1.37-1.37c-.4-.4-.92-.59-1.43-.59-.52 0-1.04.2-1.43.59L10.3 9.45l-7.72 7.72c-.78.78-.78 2.05 0 2.83L4 21.41c.39.39.9.59 1.41.59.51 0 1.02-.2 1.41-.59l7.78-7.78 2.81-2.81c.8-.78.8-2.07 0-2.86zM5.41 20L4 18.59l7.72-7.72 1.47 1.35L5.41 20z\"/>\n",
              "  </svg>\n",
              "      </button>\n",
              "      \n",
              "  <style>\n",
              "    .colab-df-container {\n",
              "      display:flex;\n",
              "      flex-wrap:wrap;\n",
              "      gap: 12px;\n",
              "    }\n",
              "\n",
              "    .colab-df-convert {\n",
              "      background-color: #E8F0FE;\n",
              "      border: none;\n",
              "      border-radius: 50%;\n",
              "      cursor: pointer;\n",
              "      display: none;\n",
              "      fill: #1967D2;\n",
              "      height: 32px;\n",
              "      padding: 0 0 0 0;\n",
              "      width: 32px;\n",
              "    }\n",
              "\n",
              "    .colab-df-convert:hover {\n",
              "      background-color: #E2EBFA;\n",
              "      box-shadow: 0px 1px 2px rgba(60, 64, 67, 0.3), 0px 1px 3px 1px rgba(60, 64, 67, 0.15);\n",
              "      fill: #174EA6;\n",
              "    }\n",
              "\n",
              "    [theme=dark] .colab-df-convert {\n",
              "      background-color: #3B4455;\n",
              "      fill: #D2E3FC;\n",
              "    }\n",
              "\n",
              "    [theme=dark] .colab-df-convert:hover {\n",
              "      background-color: #434B5C;\n",
              "      box-shadow: 0px 1px 3px 1px rgba(0, 0, 0, 0.15);\n",
              "      filter: drop-shadow(0px 1px 2px rgba(0, 0, 0, 0.3));\n",
              "      fill: #FFFFFF;\n",
              "    }\n",
              "  </style>\n",
              "\n",
              "      <script>\n",
              "        const buttonEl =\n",
              "          document.querySelector('#df-e8972544-0a44-415c-8d94-0b3d0ad4e3f2 button.colab-df-convert');\n",
              "        buttonEl.style.display =\n",
              "          google.colab.kernel.accessAllowed ? 'block' : 'none';\n",
              "\n",
              "        async function convertToInteractive(key) {\n",
              "          const element = document.querySelector('#df-e8972544-0a44-415c-8d94-0b3d0ad4e3f2');\n",
              "          const dataTable =\n",
              "            await google.colab.kernel.invokeFunction('convertToInteractive',\n",
              "                                                     [key], {});\n",
              "          if (!dataTable) return;\n",
              "\n",
              "          const docLinkHtml = 'Like what you see? Visit the ' +\n",
              "            '<a target=\"_blank\" href=https://colab.research.google.com/notebooks/data_table.ipynb>data table notebook</a>'\n",
              "            + ' to learn more about interactive tables.';\n",
              "          element.innerHTML = '';\n",
              "          dataTable['output_type'] = 'display_data';\n",
              "          await google.colab.output.renderOutput(dataTable, element);\n",
              "          const docLink = document.createElement('div');\n",
              "          docLink.innerHTML = docLinkHtml;\n",
              "          element.appendChild(docLink);\n",
              "        }\n",
              "      </script>\n",
              "    </div>\n",
              "  </div>\n",
              "  "
            ]
          },
          "metadata": {},
          "execution_count": 11
        }
      ]
    },
    {
      "cell_type": "code",
      "source": [
        "df1.isna().sum()"
      ],
      "metadata": {
        "colab": {
          "base_uri": "https://localhost:8080/"
        },
        "id": "I1p_5r49Dtai",
        "outputId": "a2daec2c-6b9d-4bd2-8e51-596117209070"
      },
      "execution_count": 12,
      "outputs": [
        {
          "output_type": "execute_result",
          "data": {
            "text/plain": [
              "Player                      0\n",
              "Position                    0\n",
              "Age                         0\n",
              "Games                       0\n",
              "Minutes Played              2\n",
              "True Shooting(%)            3\n",
              "Threepoint Attempt rate     2\n",
              "Free throw attempt rate     2\n",
              "Player Efficiency Rating    0\n",
              "dtype: int64"
            ]
          },
          "metadata": {},
          "execution_count": 12
        }
      ]
    },
    {
      "cell_type": "code",
      "source": [
        "df1.head()"
      ],
      "metadata": {
        "colab": {
          "base_uri": "https://localhost:8080/",
          "height": 206
        },
        "id": "3W8UNylMGQzg",
        "outputId": "760b402f-cf63-48cb-d233-0f9405d0ec5d"
      },
      "execution_count": 13,
      "outputs": [
        {
          "output_type": "execute_result",
          "data": {
            "text/plain": [
              "              Player Position  Age  Games  Minutes Played  True Shooting(%)  \\\n",
              "0   Precious Achiuwa       PF   21     28           408.0             0.599   \n",
              "1       Jaylen Adams       PG   24      6            17.0             0.125   \n",
              "2       Steven Adams        C   27     27           760.0             0.592   \n",
              "3        Bam Adebayo        C   23     26           873.0             0.641   \n",
              "4  LaMarcus Aldridge        C   35     18           480.0             0.542   \n",
              "\n",
              "   Threepoint Attempt rate  Free throw attempt rate  Player Efficiency Rating  \n",
              "0                    0.000                    0.541                      15.1  \n",
              "1                    0.250                    0.000                      -6.9  \n",
              "2                      NaN                    0.397                      15.9  \n",
              "3                    0.015                    0.469                      22.7  \n",
              "4                    0.298                    0.093                      15.2  "
            ],
            "text/html": [
              "\n",
              "  <div id=\"df-6a4dc205-a2bf-484f-9a8c-2fcef3d97162\">\n",
              "    <div class=\"colab-df-container\">\n",
              "      <div>\n",
              "<style scoped>\n",
              "    .dataframe tbody tr th:only-of-type {\n",
              "        vertical-align: middle;\n",
              "    }\n",
              "\n",
              "    .dataframe tbody tr th {\n",
              "        vertical-align: top;\n",
              "    }\n",
              "\n",
              "    .dataframe thead th {\n",
              "        text-align: right;\n",
              "    }\n",
              "</style>\n",
              "<table border=\"1\" class=\"dataframe\">\n",
              "  <thead>\n",
              "    <tr style=\"text-align: right;\">\n",
              "      <th></th>\n",
              "      <th>Player</th>\n",
              "      <th>Position</th>\n",
              "      <th>Age</th>\n",
              "      <th>Games</th>\n",
              "      <th>Minutes Played</th>\n",
              "      <th>True Shooting(%)</th>\n",
              "      <th>Threepoint Attempt rate</th>\n",
              "      <th>Free throw attempt rate</th>\n",
              "      <th>Player Efficiency Rating</th>\n",
              "    </tr>\n",
              "  </thead>\n",
              "  <tbody>\n",
              "    <tr>\n",
              "      <th>0</th>\n",
              "      <td>Precious Achiuwa</td>\n",
              "      <td>PF</td>\n",
              "      <td>21</td>\n",
              "      <td>28</td>\n",
              "      <td>408.0</td>\n",
              "      <td>0.599</td>\n",
              "      <td>0.000</td>\n",
              "      <td>0.541</td>\n",
              "      <td>15.1</td>\n",
              "    </tr>\n",
              "    <tr>\n",
              "      <th>1</th>\n",
              "      <td>Jaylen Adams</td>\n",
              "      <td>PG</td>\n",
              "      <td>24</td>\n",
              "      <td>6</td>\n",
              "      <td>17.0</td>\n",
              "      <td>0.125</td>\n",
              "      <td>0.250</td>\n",
              "      <td>0.000</td>\n",
              "      <td>-6.9</td>\n",
              "    </tr>\n",
              "    <tr>\n",
              "      <th>2</th>\n",
              "      <td>Steven Adams</td>\n",
              "      <td>C</td>\n",
              "      <td>27</td>\n",
              "      <td>27</td>\n",
              "      <td>760.0</td>\n",
              "      <td>0.592</td>\n",
              "      <td>NaN</td>\n",
              "      <td>0.397</td>\n",
              "      <td>15.9</td>\n",
              "    </tr>\n",
              "    <tr>\n",
              "      <th>3</th>\n",
              "      <td>Bam Adebayo</td>\n",
              "      <td>C</td>\n",
              "      <td>23</td>\n",
              "      <td>26</td>\n",
              "      <td>873.0</td>\n",
              "      <td>0.641</td>\n",
              "      <td>0.015</td>\n",
              "      <td>0.469</td>\n",
              "      <td>22.7</td>\n",
              "    </tr>\n",
              "    <tr>\n",
              "      <th>4</th>\n",
              "      <td>LaMarcus Aldridge</td>\n",
              "      <td>C</td>\n",
              "      <td>35</td>\n",
              "      <td>18</td>\n",
              "      <td>480.0</td>\n",
              "      <td>0.542</td>\n",
              "      <td>0.298</td>\n",
              "      <td>0.093</td>\n",
              "      <td>15.2</td>\n",
              "    </tr>\n",
              "  </tbody>\n",
              "</table>\n",
              "</div>\n",
              "      <button class=\"colab-df-convert\" onclick=\"convertToInteractive('df-6a4dc205-a2bf-484f-9a8c-2fcef3d97162')\"\n",
              "              title=\"Convert this dataframe to an interactive table.\"\n",
              "              style=\"display:none;\">\n",
              "        \n",
              "  <svg xmlns=\"http://www.w3.org/2000/svg\" height=\"24px\"viewBox=\"0 0 24 24\"\n",
              "       width=\"24px\">\n",
              "    <path d=\"M0 0h24v24H0V0z\" fill=\"none\"/>\n",
              "    <path d=\"M18.56 5.44l.94 2.06.94-2.06 2.06-.94-2.06-.94-.94-2.06-.94 2.06-2.06.94zm-11 1L8.5 8.5l.94-2.06 2.06-.94-2.06-.94L8.5 2.5l-.94 2.06-2.06.94zm10 10l.94 2.06.94-2.06 2.06-.94-2.06-.94-.94-2.06-.94 2.06-2.06.94z\"/><path d=\"M17.41 7.96l-1.37-1.37c-.4-.4-.92-.59-1.43-.59-.52 0-1.04.2-1.43.59L10.3 9.45l-7.72 7.72c-.78.78-.78 2.05 0 2.83L4 21.41c.39.39.9.59 1.41.59.51 0 1.02-.2 1.41-.59l7.78-7.78 2.81-2.81c.8-.78.8-2.07 0-2.86zM5.41 20L4 18.59l7.72-7.72 1.47 1.35L5.41 20z\"/>\n",
              "  </svg>\n",
              "      </button>\n",
              "      \n",
              "  <style>\n",
              "    .colab-df-container {\n",
              "      display:flex;\n",
              "      flex-wrap:wrap;\n",
              "      gap: 12px;\n",
              "    }\n",
              "\n",
              "    .colab-df-convert {\n",
              "      background-color: #E8F0FE;\n",
              "      border: none;\n",
              "      border-radius: 50%;\n",
              "      cursor: pointer;\n",
              "      display: none;\n",
              "      fill: #1967D2;\n",
              "      height: 32px;\n",
              "      padding: 0 0 0 0;\n",
              "      width: 32px;\n",
              "    }\n",
              "\n",
              "    .colab-df-convert:hover {\n",
              "      background-color: #E2EBFA;\n",
              "      box-shadow: 0px 1px 2px rgba(60, 64, 67, 0.3), 0px 1px 3px 1px rgba(60, 64, 67, 0.15);\n",
              "      fill: #174EA6;\n",
              "    }\n",
              "\n",
              "    [theme=dark] .colab-df-convert {\n",
              "      background-color: #3B4455;\n",
              "      fill: #D2E3FC;\n",
              "    }\n",
              "\n",
              "    [theme=dark] .colab-df-convert:hover {\n",
              "      background-color: #434B5C;\n",
              "      box-shadow: 0px 1px 3px 1px rgba(0, 0, 0, 0.15);\n",
              "      filter: drop-shadow(0px 1px 2px rgba(0, 0, 0, 0.3));\n",
              "      fill: #FFFFFF;\n",
              "    }\n",
              "  </style>\n",
              "\n",
              "      <script>\n",
              "        const buttonEl =\n",
              "          document.querySelector('#df-6a4dc205-a2bf-484f-9a8c-2fcef3d97162 button.colab-df-convert');\n",
              "        buttonEl.style.display =\n",
              "          google.colab.kernel.accessAllowed ? 'block' : 'none';\n",
              "\n",
              "        async function convertToInteractive(key) {\n",
              "          const element = document.querySelector('#df-6a4dc205-a2bf-484f-9a8c-2fcef3d97162');\n",
              "          const dataTable =\n",
              "            await google.colab.kernel.invokeFunction('convertToInteractive',\n",
              "                                                     [key], {});\n",
              "          if (!dataTable) return;\n",
              "\n",
              "          const docLinkHtml = 'Like what you see? Visit the ' +\n",
              "            '<a target=\"_blank\" href=https://colab.research.google.com/notebooks/data_table.ipynb>data table notebook</a>'\n",
              "            + ' to learn more about interactive tables.';\n",
              "          element.innerHTML = '';\n",
              "          dataTable['output_type'] = 'display_data';\n",
              "          await google.colab.output.renderOutput(dataTable, element);\n",
              "          const docLink = document.createElement('div');\n",
              "          docLink.innerHTML = docLinkHtml;\n",
              "          element.appendChild(docLink);\n",
              "        }\n",
              "      </script>\n",
              "    </div>\n",
              "  </div>\n",
              "  "
            ]
          },
          "metadata": {},
          "execution_count": 13
        }
      ]
    },
    {
      "cell_type": "code",
      "source": [
        "df1.describe()"
      ],
      "metadata": {
        "colab": {
          "base_uri": "https://localhost:8080/",
          "height": 300
        },
        "id": "BrBYcs2KGSI6",
        "outputId": "0684b03a-a146-4acf-bf83-8dc071965bd8"
      },
      "execution_count": 14,
      "outputs": [
        {
          "output_type": "execute_result",
          "data": {
            "text/plain": [
              "              Age       Games  Minutes Played  True Shooting(%)  \\\n",
              "count  497.000000  497.000000      495.000000        494.000000   \n",
              "mean    25.623742   18.456740      416.492929          0.538939   \n",
              "std      4.054229    8.311394      297.543620          0.130360   \n",
              "min     19.000000    1.000000        2.000000          0.000000   \n",
              "25%     22.000000   12.000000      127.000000          0.500000   \n",
              "50%     25.000000   20.000000      417.000000          0.556000   \n",
              "75%     28.000000   26.000000      665.500000          0.607000   \n",
              "max     37.000000   30.000000     1101.000000          1.500000   \n",
              "\n",
              "       Threepoint Attempt rate  Free throw attempt rate  \\\n",
              "count               495.000000               495.000000   \n",
              "mean                  0.406362                 0.274804   \n",
              "std                   0.234207                 0.270650   \n",
              "min                   0.000000                 0.000000   \n",
              "25%                   0.255000                 0.142000   \n",
              "50%                   0.418000                 0.227000   \n",
              "75%                   0.566000                 0.318000   \n",
              "max                   1.000000                 2.667000   \n",
              "\n",
              "       Player Efficiency Rating  \n",
              "count                497.000000  \n",
              "mean                  12.646278  \n",
              "std                    7.404316  \n",
              "min                  -40.900000  \n",
              "25%                    9.300000  \n",
              "50%                   12.600000  \n",
              "75%                   16.700000  \n",
              "max                   38.700000  "
            ],
            "text/html": [
              "\n",
              "  <div id=\"df-c5d9c87c-13fd-4c88-938f-35da9435cd74\">\n",
              "    <div class=\"colab-df-container\">\n",
              "      <div>\n",
              "<style scoped>\n",
              "    .dataframe tbody tr th:only-of-type {\n",
              "        vertical-align: middle;\n",
              "    }\n",
              "\n",
              "    .dataframe tbody tr th {\n",
              "        vertical-align: top;\n",
              "    }\n",
              "\n",
              "    .dataframe thead th {\n",
              "        text-align: right;\n",
              "    }\n",
              "</style>\n",
              "<table border=\"1\" class=\"dataframe\">\n",
              "  <thead>\n",
              "    <tr style=\"text-align: right;\">\n",
              "      <th></th>\n",
              "      <th>Age</th>\n",
              "      <th>Games</th>\n",
              "      <th>Minutes Played</th>\n",
              "      <th>True Shooting(%)</th>\n",
              "      <th>Threepoint Attempt rate</th>\n",
              "      <th>Free throw attempt rate</th>\n",
              "      <th>Player Efficiency Rating</th>\n",
              "    </tr>\n",
              "  </thead>\n",
              "  <tbody>\n",
              "    <tr>\n",
              "      <th>count</th>\n",
              "      <td>497.000000</td>\n",
              "      <td>497.000000</td>\n",
              "      <td>495.000000</td>\n",
              "      <td>494.000000</td>\n",
              "      <td>495.000000</td>\n",
              "      <td>495.000000</td>\n",
              "      <td>497.000000</td>\n",
              "    </tr>\n",
              "    <tr>\n",
              "      <th>mean</th>\n",
              "      <td>25.623742</td>\n",
              "      <td>18.456740</td>\n",
              "      <td>416.492929</td>\n",
              "      <td>0.538939</td>\n",
              "      <td>0.406362</td>\n",
              "      <td>0.274804</td>\n",
              "      <td>12.646278</td>\n",
              "    </tr>\n",
              "    <tr>\n",
              "      <th>std</th>\n",
              "      <td>4.054229</td>\n",
              "      <td>8.311394</td>\n",
              "      <td>297.543620</td>\n",
              "      <td>0.130360</td>\n",
              "      <td>0.234207</td>\n",
              "      <td>0.270650</td>\n",
              "      <td>7.404316</td>\n",
              "    </tr>\n",
              "    <tr>\n",
              "      <th>min</th>\n",
              "      <td>19.000000</td>\n",
              "      <td>1.000000</td>\n",
              "      <td>2.000000</td>\n",
              "      <td>0.000000</td>\n",
              "      <td>0.000000</td>\n",
              "      <td>0.000000</td>\n",
              "      <td>-40.900000</td>\n",
              "    </tr>\n",
              "    <tr>\n",
              "      <th>25%</th>\n",
              "      <td>22.000000</td>\n",
              "      <td>12.000000</td>\n",
              "      <td>127.000000</td>\n",
              "      <td>0.500000</td>\n",
              "      <td>0.255000</td>\n",
              "      <td>0.142000</td>\n",
              "      <td>9.300000</td>\n",
              "    </tr>\n",
              "    <tr>\n",
              "      <th>50%</th>\n",
              "      <td>25.000000</td>\n",
              "      <td>20.000000</td>\n",
              "      <td>417.000000</td>\n",
              "      <td>0.556000</td>\n",
              "      <td>0.418000</td>\n",
              "      <td>0.227000</td>\n",
              "      <td>12.600000</td>\n",
              "    </tr>\n",
              "    <tr>\n",
              "      <th>75%</th>\n",
              "      <td>28.000000</td>\n",
              "      <td>26.000000</td>\n",
              "      <td>665.500000</td>\n",
              "      <td>0.607000</td>\n",
              "      <td>0.566000</td>\n",
              "      <td>0.318000</td>\n",
              "      <td>16.700000</td>\n",
              "    </tr>\n",
              "    <tr>\n",
              "      <th>max</th>\n",
              "      <td>37.000000</td>\n",
              "      <td>30.000000</td>\n",
              "      <td>1101.000000</td>\n",
              "      <td>1.500000</td>\n",
              "      <td>1.000000</td>\n",
              "      <td>2.667000</td>\n",
              "      <td>38.700000</td>\n",
              "    </tr>\n",
              "  </tbody>\n",
              "</table>\n",
              "</div>\n",
              "      <button class=\"colab-df-convert\" onclick=\"convertToInteractive('df-c5d9c87c-13fd-4c88-938f-35da9435cd74')\"\n",
              "              title=\"Convert this dataframe to an interactive table.\"\n",
              "              style=\"display:none;\">\n",
              "        \n",
              "  <svg xmlns=\"http://www.w3.org/2000/svg\" height=\"24px\"viewBox=\"0 0 24 24\"\n",
              "       width=\"24px\">\n",
              "    <path d=\"M0 0h24v24H0V0z\" fill=\"none\"/>\n",
              "    <path d=\"M18.56 5.44l.94 2.06.94-2.06 2.06-.94-2.06-.94-.94-2.06-.94 2.06-2.06.94zm-11 1L8.5 8.5l.94-2.06 2.06-.94-2.06-.94L8.5 2.5l-.94 2.06-2.06.94zm10 10l.94 2.06.94-2.06 2.06-.94-2.06-.94-.94-2.06-.94 2.06-2.06.94z\"/><path d=\"M17.41 7.96l-1.37-1.37c-.4-.4-.92-.59-1.43-.59-.52 0-1.04.2-1.43.59L10.3 9.45l-7.72 7.72c-.78.78-.78 2.05 0 2.83L4 21.41c.39.39.9.59 1.41.59.51 0 1.02-.2 1.41-.59l7.78-7.78 2.81-2.81c.8-.78.8-2.07 0-2.86zM5.41 20L4 18.59l7.72-7.72 1.47 1.35L5.41 20z\"/>\n",
              "  </svg>\n",
              "      </button>\n",
              "      \n",
              "  <style>\n",
              "    .colab-df-container {\n",
              "      display:flex;\n",
              "      flex-wrap:wrap;\n",
              "      gap: 12px;\n",
              "    }\n",
              "\n",
              "    .colab-df-convert {\n",
              "      background-color: #E8F0FE;\n",
              "      border: none;\n",
              "      border-radius: 50%;\n",
              "      cursor: pointer;\n",
              "      display: none;\n",
              "      fill: #1967D2;\n",
              "      height: 32px;\n",
              "      padding: 0 0 0 0;\n",
              "      width: 32px;\n",
              "    }\n",
              "\n",
              "    .colab-df-convert:hover {\n",
              "      background-color: #E2EBFA;\n",
              "      box-shadow: 0px 1px 2px rgba(60, 64, 67, 0.3), 0px 1px 3px 1px rgba(60, 64, 67, 0.15);\n",
              "      fill: #174EA6;\n",
              "    }\n",
              "\n",
              "    [theme=dark] .colab-df-convert {\n",
              "      background-color: #3B4455;\n",
              "      fill: #D2E3FC;\n",
              "    }\n",
              "\n",
              "    [theme=dark] .colab-df-convert:hover {\n",
              "      background-color: #434B5C;\n",
              "      box-shadow: 0px 1px 3px 1px rgba(0, 0, 0, 0.15);\n",
              "      filter: drop-shadow(0px 1px 2px rgba(0, 0, 0, 0.3));\n",
              "      fill: #FFFFFF;\n",
              "    }\n",
              "  </style>\n",
              "\n",
              "      <script>\n",
              "        const buttonEl =\n",
              "          document.querySelector('#df-c5d9c87c-13fd-4c88-938f-35da9435cd74 button.colab-df-convert');\n",
              "        buttonEl.style.display =\n",
              "          google.colab.kernel.accessAllowed ? 'block' : 'none';\n",
              "\n",
              "        async function convertToInteractive(key) {\n",
              "          const element = document.querySelector('#df-c5d9c87c-13fd-4c88-938f-35da9435cd74');\n",
              "          const dataTable =\n",
              "            await google.colab.kernel.invokeFunction('convertToInteractive',\n",
              "                                                     [key], {});\n",
              "          if (!dataTable) return;\n",
              "\n",
              "          const docLinkHtml = 'Like what you see? Visit the ' +\n",
              "            '<a target=\"_blank\" href=https://colab.research.google.com/notebooks/data_table.ipynb>data table notebook</a>'\n",
              "            + ' to learn more about interactive tables.';\n",
              "          element.innerHTML = '';\n",
              "          dataTable['output_type'] = 'display_data';\n",
              "          await google.colab.output.renderOutput(dataTable, element);\n",
              "          const docLink = document.createElement('div');\n",
              "          docLink.innerHTML = docLinkHtml;\n",
              "          element.appendChild(docLink);\n",
              "        }\n",
              "      </script>\n",
              "    </div>\n",
              "  </div>\n",
              "  "
            ]
          },
          "metadata": {},
          "execution_count": 14
        }
      ]
    },
    {
      "cell_type": "code",
      "source": [
        "#Visualizing the data\n",
        "import matplotlib.pyplot as plt\n",
        "import seaborn as sns"
      ],
      "metadata": {
        "id": "y8hZaF2_GS-r"
      },
      "execution_count": 15,
      "outputs": []
    },
    {
      "cell_type": "code",
      "source": [
        "f,ax = plt.subplots(figsize=(10,8))\n",
        "sns.heatmap(df1.corr(),annot=True, linewidths=.5,fmt=\".1f\",ax=ax)\n",
        "plt.show()"
      ],
      "metadata": {
        "colab": {
          "base_uri": "https://localhost:8080/",
          "height": 598
        },
        "id": "X7KrhsxVGT5L",
        "outputId": "d38d154d-cee7-4166-edb5-80cf6577ab68"
      },
      "execution_count": 20,
      "outputs": [
        {
          "output_type": "display_data",
          "data": {
            "text/plain": [
              "<Figure size 720x576 with 2 Axes>"
            ],
            "image/png": "[encoded data removed]"
          },
          "metadata": {
            "needs_background": "light"
          }
        }
      ]
    },
    {
      "cell_type": "code",
      "source": [
        "cols = list(df1.iloc[:, 2:])\n",
        "\n",
        "fig, axes = plt.subplots(3,5, figsize=(18,11))\n",
        "\n",
        "fig.tight_layout(pad=2.0)\n",
        "\n",
        "for i in range(len(cols)):\n",
        "  sns.boxplot(ax=axes[i//5, i%5], y=df1[cols[i]])"
      ],
      "metadata": {
        "colab": {
          "base_uri": "https://localhost:8080/",
          "height": 779
        },
        "id": "_I3QGsbZGURv",
        "outputId": "6ecb0606-1b6c-429d-c3ef-248a3505c005"
      },
      "execution_count": 22,
      "outputs": [
        {
          "output_type": "display_data",
          "data": {
            "text/plain": [
              "<Figure size 1296x792 with 15 Axes>"
            ],
            "image/png": "[encoded data removed]"
          },
          "metadata": {
            "needs_background": "light"
          }
        }
      ]
    },
    {
      "cell_type": "code",
      "source": [
        "per_outlier = df1['Player Efficiency Rating'].idxmin()\n",
        "per_outlier"
      ],
      "metadata": {
        "colab": {
          "base_uri": "https://localhost:8080/"
        },
        "id": "ShVuDFfvGVD6",
        "outputId": "1d9e8e59-108c-47e2-9bea-029d23c935c2"
      },
      "execution_count": 27,
      "outputs": [
        {
          "output_type": "execute_result",
          "data": {
            "text/plain": [
              "363"
            ]
          },
          "metadata": {},
          "execution_count": 27
        }
      ]
    },
    {
      "cell_type": "code",
      "source": [
        "cols = list(df1.iloc[:, 2:])\n",
        "\n",
        "fig = plt.figure(figsize=(18,11))\n",
        "\n",
        "fig.tight_layout(pad=5.0)\n",
        "\n",
        "for i in range(len(cols)):\n",
        "  plt.subplot(3,5, i+1)\n",
        "  plt.hist(df1[cols[i]], bins=30)\n",
        "  plt.title(cols[i])"
      ],
      "metadata": {
        "colab": {
          "base_uri": "https://localhost:8080/",
          "height": 451
        },
        "id": "AP4PYFmoGVnm",
        "outputId": "6e349714-4a05-4f4a-c3bc-38f24a0d8f29"
      },
      "execution_count": 30,
      "outputs": [
        {
          "output_type": "display_data",
          "data": {
            "text/plain": [
              "<Figure size 1296x792 with 7 Axes>"
            ],
            "image/png": "[encoded data removed]"
          },
          "metadata": {
            "needs_background": "light"
          }
        }
      ]
    },
    {
      "cell_type": "code",
      "source": [
        "import sklearn as s"
      ],
      "metadata": {
        "id": "va95E3_DGW3a"
      },
      "execution_count": 32,
      "outputs": []
    },
    {
      "cell_type": "code",
      "source": [
        "x = df1.dropna(how='any').iloc[:, 5:-1].to_numpy()\n",
        "y = df1.dropna(how='any').iloc[:, -1]\n",
        "\n",
        "lin_reg = s.LinearRegression()\n",
        "\n",
        "scores = s.cross_val_score(lin_reg, x, y, cv=10, scoring='r2')\n",
        "\n",
        "entries, bin_edges, patches = plt.hist(scores, bins=10);\n",
        "\n",
        "print('Mean r2 score: {:,4f}'.format(scores.mean()))\n",
        "for i in range(len(entries)):\n",
        "  if entries[i] > 0:\n",
        "    print('{:.0f}% of r2 scores are between {:.4f} and {:.4f}'.format(entries[i]*100/len(entries),\n",
        "          bin_edges[i],\n",
        "          bin_edges[i+1]))"
      ],
      "metadata": {
        "colab": {
          "base_uri": "https://localhost:8080/",
          "height": 235
        },
        "id": "GZV8mcrsGWbM",
        "outputId": "b9f343ec-ff24-4eb3-bf68-9b293f7ce25c"
      },
      "execution_count": 33,
      "outputs": [
        {
          "output_type": "error",
          "ename": "AttributeError",
          "evalue": "ignored",
          "traceback": [
            "\u001b[0;31m---------------------------------------------------------------------------\u001b[0m",
            "\u001b[0;31mAttributeError\u001b[0m                            Traceback (most recent call last)",
            "\u001b[0;32m<ipython-input-33-613863463bf2>\u001b[0m in \u001b[0;36m<module>\u001b[0;34m()\u001b[0m\n\u001b[1;32m      2\u001b[0m \u001b[0my\u001b[0m \u001b[0;34m=\u001b[0m \u001b[0mdf1\u001b[0m\u001b[0;34m.\u001b[0m\u001b[0mdropna\u001b[0m\u001b[0;34m(\u001b[0m\u001b[0mhow\u001b[0m\u001b[0;34m=\u001b[0m\u001b[0;34m'any'\u001b[0m\u001b[0;34m)\u001b[0m\u001b[0;34m.\u001b[0m\u001b[0miloc\u001b[0m\u001b[0;34m[\u001b[0m\u001b[0;34m:\u001b[0m\u001b[0;34m,\u001b[0m \u001b[0;34m-\u001b[0m\u001b[0;36m1\u001b[0m\u001b[0;34m]\u001b[0m\u001b[0;34m\u001b[0m\u001b[0;34m\u001b[0m\u001b[0m\n\u001b[1;32m      3\u001b[0m \u001b[0;34m\u001b[0m\u001b[0m\n\u001b[0;32m----> 4\u001b[0;31m \u001b[0mlin_reg\u001b[0m \u001b[0;34m=\u001b[0m \u001b[0ms\u001b[0m\u001b[0;34m.\u001b[0m\u001b[0mLinearRegression\u001b[0m\u001b[0;34m(\u001b[0m\u001b[0;34m)\u001b[0m\u001b[0;34m\u001b[0m\u001b[0;34m\u001b[0m\u001b[0m\n\u001b[0m\u001b[1;32m      5\u001b[0m \u001b[0;34m\u001b[0m\u001b[0m\n\u001b[1;32m      6\u001b[0m \u001b[0mscores\u001b[0m \u001b[0;34m=\u001b[0m \u001b[0ms\u001b[0m\u001b[0;34m.\u001b[0m\u001b[0mcross_val_score\u001b[0m\u001b[0;34m(\u001b[0m\u001b[0mlin_reg\u001b[0m\u001b[0;34m,\u001b[0m \u001b[0mx\u001b[0m\u001b[0;34m,\u001b[0m \u001b[0my\u001b[0m\u001b[0;34m,\u001b[0m \u001b[0mcv\u001b[0m\u001b[0;34m=\u001b[0m\u001b[0;36m10\u001b[0m\u001b[0;34m,\u001b[0m \u001b[0mscoring\u001b[0m\u001b[0;34m=\u001b[0m\u001b[0;34m'r2'\u001b[0m\u001b[0;34m)\u001b[0m\u001b[0;34m\u001b[0m\u001b[0;34m\u001b[0m\u001b[0m\n",
            "\u001b[0;31mAttributeError\u001b[0m: module 'sklearn' has no attribute 'LinearRegression'"
          ]
        }
      ]
    },
    {
      "cell_type": "code",
      "source": [
        ""
      ],
      "metadata": {
        "id": "OpRfoDluGFM2"
      },
      "execution_count": null,
      "outputs": []
    }
  ]
}